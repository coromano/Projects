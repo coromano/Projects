{
    "metadata": {
        "kernelspec": {
            "name": "SQL",
            "display_name": "SQL",
            "language": "sql"
        },
        "language_info": {
            "name": "sql",
            "version": ""
        }
    },
    "nbformat_minor": 2,
    "nbformat": 4,
    "cells": [
        {
            "cell_type": "markdown",
            "source": [
                "In this project i wil analize the sales of houses in a city in Australia. For this i will use the raw\\_sales dataset that iincludes the following variables:\n",
                "\n",
                "Datesold: The date when an owner sold the house to a buyer.\n",
                "\n",
                "Postcode: 4 digit postcode of the suburb where the owner sold the property\n",
                "\n",
                "Price: Price for which the owner sold the property.\n",
                "\n",
                "With this data i will solve th following tasks\n",
                "\n",
                "- Which date corresponds to the highest number of sales?\n",
                "    \n",
                "- Find out the postcode with the highest average price per sale? \n",
                "    \n",
                "- Which year witnessed the lowest number of sales?\n",
                "    \n",
                "- Use a query  to deduce the top six postcodes by year's price."
            ],
            "metadata": {
                "language": "sql",
                "azdata_cell_guid": "a1193e53-c325-406b-8fe9-8a93bec3e4f0"
            },
            "attachments": {}
        },
        {
            "cell_type": "markdown",
            "source": [
                "First i will take a look at the data"
            ],
            "metadata": {
                "language": "sql",
                "azdata_cell_guid": "aacf2878-aeb5-4ca7-81b2-56066f36df35"
            },
            "attachments": {}
        },
        {
            "cell_type": "code",
            "source": [
                "SELECT top 10 *\r\n",
                "from raw_sales"
            ],
            "metadata": {
                "azdata_cell_guid": "0038459d-7e26-4419-8696-02b88c649b8e",
                "language": "sql",
                "tags": [
                    "hide_input"
                ]
            },
            "outputs": [
                {
                    "output_type": "display_data",
                    "data": {
                        "text/html": "(10 rows affected)"
                    },
                    "metadata": {}
                },
                {
                    "output_type": "display_data",
                    "data": {
                        "text/html": "Total execution time: 00:00:00.133"
                    },
                    "metadata": {}
                },
                {
                    "output_type": "execute_result",
                    "execution_count": 2,
                    "data": {
                        "application/vnd.dataresource+json": {
                            "schema": {
                                "fields": [
                                    {
                                        "name": "datesold"
                                    },
                                    {
                                        "name": "postcode"
                                    },
                                    {
                                        "name": "price"
                                    },
                                    {
                                        "name": "propertyType"
                                    },
                                    {
                                        "name": "bedrooms"
                                    }
                                ]
                            },
                            "data": [
                                {
                                    "0": "2007-02-07 00:00:00.0000000",
                                    "1": "2607",
                                    "2": "525000",
                                    "3": "house",
                                    "4": "4"
                                },
                                {
                                    "0": "2007-02-27 00:00:00.0000000",
                                    "1": "2906",
                                    "2": "290000",
                                    "3": "house",
                                    "4": "3"
                                },
                                {
                                    "0": "2007-03-07 00:00:00.0000000",
                                    "1": "2905",
                                    "2": "328000",
                                    "3": "house",
                                    "4": "3"
                                },
                                {
                                    "0": "2007-03-09 00:00:00.0000000",
                                    "1": "2905",
                                    "2": "380000",
                                    "3": "house",
                                    "4": "4"
                                },
                                {
                                    "0": "2007-03-21 00:00:00.0000000",
                                    "1": "2906",
                                    "2": "310000",
                                    "3": "house",
                                    "4": "3"
                                },
                                {
                                    "0": "2007-04-04 00:00:00.0000000",
                                    "1": "2905",
                                    "2": "465000",
                                    "3": "house",
                                    "4": "4"
                                },
                                {
                                    "0": "2007-04-24 00:00:00.0000000",
                                    "1": "2607",
                                    "2": "399000",
                                    "3": "house",
                                    "4": "3"
                                },
                                {
                                    "0": "2007-04-30 00:00:00.0000000",
                                    "1": "2606",
                                    "2": "1530000",
                                    "3": "house",
                                    "4": "4"
                                },
                                {
                                    "0": "2007-05-24 00:00:00.0000000",
                                    "1": "2902",
                                    "2": "359000",
                                    "3": "house",
                                    "4": "3"
                                },
                                {
                                    "0": "2007-05-25 00:00:00.0000000",
                                    "1": "2906",
                                    "2": "320000",
                                    "3": "house",
                                    "4": "3"
                                }
                            ]
                        },
                        "text/html": "<table><tr><th>datesold</th><th>postcode</th><th>price</th><th>propertyType</th><th>bedrooms</th></tr><tr><td>2007-02-07 00:00:00.0000000</td><td>2607</td><td>525000</td><td>house</td><td>4</td></tr><tr><td>2007-02-27 00:00:00.0000000</td><td>2906</td><td>290000</td><td>house</td><td>3</td></tr><tr><td>2007-03-07 00:00:00.0000000</td><td>2905</td><td>328000</td><td>house</td><td>3</td></tr><tr><td>2007-03-09 00:00:00.0000000</td><td>2905</td><td>380000</td><td>house</td><td>4</td></tr><tr><td>2007-03-21 00:00:00.0000000</td><td>2906</td><td>310000</td><td>house</td><td>3</td></tr><tr><td>2007-04-04 00:00:00.0000000</td><td>2905</td><td>465000</td><td>house</td><td>4</td></tr><tr><td>2007-04-24 00:00:00.0000000</td><td>2607</td><td>399000</td><td>house</td><td>3</td></tr><tr><td>2007-04-30 00:00:00.0000000</td><td>2606</td><td>1530000</td><td>house</td><td>4</td></tr><tr><td>2007-05-24 00:00:00.0000000</td><td>2902</td><td>359000</td><td>house</td><td>3</td></tr><tr><td>2007-05-25 00:00:00.0000000</td><td>2906</td><td>320000</td><td>house</td><td>3</td></tr></table>"
                    },
                    "metadata": {}
                }
            ],
            "execution_count": 2
        },
        {
            "cell_type": "code",
            "source": [
                "select count(*) as Amount_of_null_values\r\n",
                "from raw_sales\r\n",
                "where postcode is null or price is null or propertyType is null or bedrooms is null"
            ],
            "metadata": {
                "language": "sql",
                "azdata_cell_guid": "d75b4233-4a79-4c00-85b7-beb9aec45447"
            },
            "outputs": [
                {
                    "output_type": "display_data",
                    "data": {
                        "text/html": "(1 row affected)"
                    },
                    "metadata": {}
                },
                {
                    "output_type": "display_data",
                    "data": {
                        "text/html": "Total execution time: 00:00:00.120"
                    },
                    "metadata": {}
                },
                {
                    "output_type": "execute_result",
                    "execution_count": 4,
                    "data": {
                        "application/vnd.dataresource+json": {
                            "schema": {
                                "fields": [
                                    {
                                        "name": "(No column name)"
                                    }
                                ]
                            },
                            "data": [
                                {
                                    "0": "0"
                                }
                            ]
                        },
                        "text/html": "<table><tr><th>(No column name)</th></tr><tr><td>0</td></tr></table>"
                    },
                    "metadata": {}
                }
            ],
            "execution_count": 4
        },
        {
            "cell_type": "markdown",
            "source": [
                "Now as we can see the dataset doesnt contain any null values, so it is possible to continue using the table without any modifications\n",
                "\n",
                "To solve the first question we need to analyze the data that hast the most amount of sales. This will be solved for a year, then for a month and in a specific day"
            ],
            "metadata": {
                "language": "sql",
                "azdata_cell_guid": "265d7aeb-aa1f-4611-a115-33688af9d257"
            },
            "attachments": {}
        },
        {
            "cell_type": "code",
            "source": [
                "Select year(datesold) as Year, count(*) as Cantidad\r\n",
                "from raw_sales\r\n",
                "group by year(datesold)\r\n",
                "order by count(*) DESC"
            ],
            "metadata": {
                "language": "sql",
                "azdata_cell_guid": "ebd186d9-8cf3-4148-8c89-ae54f08b6acf",
                "tags": []
            },
            "outputs": [
                {
                    "output_type": "display_data",
                    "data": {
                        "text/html": "(13 rows affected)"
                    },
                    "metadata": {}
                },
                {
                    "output_type": "display_data",
                    "data": {
                        "text/html": "Total execution time: 00:00:00.143"
                    },
                    "metadata": {}
                },
                {
                    "output_type": "execute_result",
                    "execution_count": 4,
                    "data": {
                        "application/vnd.dataresource+json": {
                            "schema": {
                                "fields": [
                                    {
                                        "name": "Año"
                                    },
                                    {
                                        "name": "Cantidad"
                                    }
                                ]
                            },
                            "data": [
                                {
                                    "0": "2017",
                                    "1": "4541"
                                },
                                {
                                    "0": "2016",
                                    "1": "3908"
                                },
                                {
                                    "0": "2018",
                                    "1": "3858"
                                },
                                {
                                    "0": "2015",
                                    "1": "3648"
                                },
                                {
                                    "0": "2014",
                                    "1": "2863"
                                },
                                {
                                    "0": "2013",
                                    "1": "2119"
                                },
                                {
                                    "0": "2012",
                                    "1": "1858"
                                },
                                {
                                    "0": "2011",
                                    "1": "1633"
                                },
                                {
                                    "0": "2010",
                                    "1": "1555"
                                },
                                {
                                    "0": "2009",
                                    "1": "1426"
                                },
                                {
                                    "0": "2019",
                                    "1": "1385"
                                },
                                {
                                    "0": "2008",
                                    "1": "639"
                                },
                                {
                                    "0": "2007",
                                    "1": "147"
                                }
                            ]
                        },
                        "text/html": "<table><tr><th>Año</th><th>Cantidad</th></tr><tr><td>2017</td><td>4541</td></tr><tr><td>2016</td><td>3908</td></tr><tr><td>2018</td><td>3858</td></tr><tr><td>2015</td><td>3648</td></tr><tr><td>2014</td><td>2863</td></tr><tr><td>2013</td><td>2119</td></tr><tr><td>2012</td><td>1858</td></tr><tr><td>2011</td><td>1633</td></tr><tr><td>2010</td><td>1555</td></tr><tr><td>2009</td><td>1426</td></tr><tr><td>2019</td><td>1385</td></tr><tr><td>2008</td><td>639</td></tr><tr><td>2007</td><td>147</td></tr></table>"
                    },
                    "metadata": {}
                }
            ],
            "execution_count": 4
        },
        {
            "cell_type": "code",
            "source": [
                "SELECT MONTH(datesold) as Month, count(*) as Cantidad\r\n",
                "from raw_sales\r\n",
                "group by MONTH(datesold)\r\n",
                "order by count(*) DESC"
            ],
            "metadata": {
                "language": "sql",
                "azdata_cell_guid": "6ae33896-43ce-446b-90b8-6e21ad30fa11"
            },
            "outputs": [
                {
                    "output_type": "display_data",
                    "data": {
                        "text/html": "(12 rows affected)"
                    },
                    "metadata": {}
                },
                {
                    "output_type": "display_data",
                    "data": {
                        "text/html": "Total execution time: 00:00:00.144"
                    },
                    "metadata": {}
                },
                {
                    "output_type": "execute_result",
                    "execution_count": 5,
                    "data": {
                        "application/vnd.dataresource+json": {
                            "schema": {
                                "fields": [
                                    {
                                        "name": "MES"
                                    },
                                    {
                                        "name": "Cantidad"
                                    }
                                ]
                            },
                            "data": [
                                {
                                    "0": "11",
                                    "1": "3102"
                                },
                                {
                                    "0": "3",
                                    "1": "2878"
                                },
                                {
                                    "0": "5",
                                    "1": "2797"
                                },
                                {
                                    "0": "2",
                                    "1": "2656"
                                },
                                {
                                    "0": "10",
                                    "1": "2548"
                                },
                                {
                                    "0": "4",
                                    "1": "2468"
                                },
                                {
                                    "0": "12",
                                    "1": "2432"
                                },
                                {
                                    "0": "8",
                                    "1": "2429"
                                },
                                {
                                    "0": "7",
                                    "1": "2386"
                                },
                                {
                                    "0": "9",
                                    "1": "2367"
                                },
                                {
                                    "0": "6",
                                    "1": "2213"
                                },
                                {
                                    "0": "1",
                                    "1": "1304"
                                }
                            ]
                        },
                        "text/html": "<table><tr><th>MES</th><th>Cantidad</th></tr><tr><td>11</td><td>3102</td></tr><tr><td>3</td><td>2878</td></tr><tr><td>5</td><td>2797</td></tr><tr><td>2</td><td>2656</td></tr><tr><td>10</td><td>2548</td></tr><tr><td>4</td><td>2468</td></tr><tr><td>12</td><td>2432</td></tr><tr><td>8</td><td>2429</td></tr><tr><td>7</td><td>2386</td></tr><tr><td>9</td><td>2367</td></tr><tr><td>6</td><td>2213</td></tr><tr><td>1</td><td>1304</td></tr></table>"
                    },
                    "metadata": {}
                }
            ],
            "execution_count": 5
        },
        {
            "cell_type": "code",
            "source": [
                "select top 10 datesold, count(*) as Amount_of_sales\r\n",
                "from raw_sales\r\n",
                "group by datesold\r\n",
                "order by count(*) DESC"
            ],
            "metadata": {
                "language": "sql",
                "azdata_cell_guid": "ff00d9f1-c440-46c5-a2e6-538392362a07"
            },
            "outputs": [
                {
                    "output_type": "display_data",
                    "data": {
                        "text/html": "(10 rows affected)"
                    },
                    "metadata": {}
                },
                {
                    "output_type": "display_data",
                    "data": {
                        "text/html": "Total execution time: 00:00:00.157"
                    },
                    "metadata": {}
                },
                {
                    "output_type": "execute_result",
                    "execution_count": 10,
                    "data": {
                        "application/vnd.dataresource+json": {
                            "schema": {
                                "fields": [
                                    {
                                        "name": "datesold"
                                    },
                                    {
                                        "name": "(No column name)"
                                    }
                                ]
                            },
                            "data": [
                                {
                                    "0": "2017-10-28 00:00:00.0000000",
                                    "1": "50"
                                },
                                {
                                    "0": "2017-11-18 00:00:00.0000000",
                                    "1": "39"
                                },
                                {
                                    "0": "2018-03-24 00:00:00.0000000",
                                    "1": "38"
                                },
                                {
                                    "0": "2017-04-08 00:00:00.0000000",
                                    "1": "37"
                                },
                                {
                                    "0": "2017-11-11 00:00:00.0000000",
                                    "1": "37"
                                },
                                {
                                    "0": "2018-02-24 00:00:00.0000000",
                                    "1": "35"
                                },
                                {
                                    "0": "2017-02-25 00:00:00.0000000",
                                    "1": "34"
                                },
                                {
                                    "0": "2017-11-04 00:00:00.0000000",
                                    "1": "34"
                                },
                                {
                                    "0": "2019-07-01 00:00:00.0000000",
                                    "1": "34"
                                },
                                {
                                    "0": "2015-11-07 00:00:00.0000000",
                                    "1": "33"
                                }
                            ]
                        },
                        "text/html": "<table><tr><th>datesold</th><th>(No column name)</th></tr><tr><td>2017-10-28 00:00:00.0000000</td><td>50</td></tr><tr><td>2017-11-18 00:00:00.0000000</td><td>39</td></tr><tr><td>2018-03-24 00:00:00.0000000</td><td>38</td></tr><tr><td>2017-04-08 00:00:00.0000000</td><td>37</td></tr><tr><td>2017-11-11 00:00:00.0000000</td><td>37</td></tr><tr><td>2018-02-24 00:00:00.0000000</td><td>35</td></tr><tr><td>2017-02-25 00:00:00.0000000</td><td>34</td></tr><tr><td>2017-11-04 00:00:00.0000000</td><td>34</td></tr><tr><td>2019-07-01 00:00:00.0000000</td><td>34</td></tr><tr><td>2015-11-07 00:00:00.0000000</td><td>33</td></tr></table>"
                    },
                    "metadata": {}
                }
            ],
            "execution_count": 10
        },
        {
            "cell_type": "markdown",
            "source": [
                "From the three querys we can say some tthings about the amount of sales. First when talking about year, 2017 was the year that has the most amount of sales, and that almost every year the amount of sales have been increasing with the expection of 2019\n",
                "\n",
                "Now, regarding the month, November it is by a margin the month with the most amount of sales, then it follows March and May\n",
                "\n",
                "Finally the 28 of october from 2017 was by far the day that has the most amount of sales, with a difference of 11 to the second date. The year is expected considering the amount of sales that have been done."
            ],
            "metadata": {
                "language": "sql",
                "azdata_cell_guid": "d8b19eb0-deb7-47f4-a016-d81707ac30fa"
            },
            "attachments": {}
        },
        {
            "cell_type": "markdown",
            "source": [
                "> Now it comes a question about what is the post code with the highest price. In order to find this we need to do the following query"
            ],
            "metadata": {
                "language": "sql",
                "azdata_cell_guid": "b99426fb-0517-41e4-a391-2ba9774bfc3e"
            },
            "attachments": {}
        },
        {
            "cell_type": "code",
            "source": [
                "SELECT  top 10 postcode, price\r\n",
                "from raw_sales\r\n",
                "order by price DESC"
            ],
            "metadata": {
                "language": "sql",
                "azdata_cell_guid": "0c0ea0cf-fe76-4170-8da4-c442b6d34842"
            },
            "outputs": [
                {
                    "output_type": "display_data",
                    "data": {
                        "text/html": "(10 rows affected)"
                    },
                    "metadata": {}
                },
                {
                    "output_type": "display_data",
                    "data": {
                        "text/html": "Total execution time: 00:00:00.137"
                    },
                    "metadata": {}
                },
                {
                    "output_type": "execute_result",
                    "execution_count": 9,
                    "data": {
                        "application/vnd.dataresource+json": {
                            "schema": {
                                "fields": [
                                    {
                                        "name": "postcode"
                                    },
                                    {
                                        "name": "price"
                                    }
                                ]
                            },
                            "data": [
                                {
                                    "0": "2611",
                                    "1": "8000000"
                                },
                                {
                                    "0": "2603",
                                    "1": "7300000"
                                },
                                {
                                    "0": "2611",
                                    "1": "6480000"
                                },
                                {
                                    "0": "2600",
                                    "1": "5475000"
                                },
                                {
                                    "0": "2912",
                                    "1": "5425000"
                                },
                                {
                                    "0": "2603",
                                    "1": "4700000"
                                },
                                {
                                    "0": "2603",
                                    "1": "4500000"
                                },
                                {
                                    "0": "2600",
                                    "1": "4417000"
                                },
                                {
                                    "0": "2603",
                                    "1": "4220000"
                                },
                                {
                                    "0": "2902",
                                    "1": "4150000"
                                }
                            ]
                        },
                        "text/html": "<table><tr><th>postcode</th><th>price</th></tr><tr><td>2611</td><td>8000000</td></tr><tr><td>2603</td><td>7300000</td></tr><tr><td>2611</td><td>6480000</td></tr><tr><td>2600</td><td>5475000</td></tr><tr><td>2912</td><td>5425000</td></tr><tr><td>2603</td><td>4700000</td></tr><tr><td>2603</td><td>4500000</td></tr><tr><td>2600</td><td>4417000</td></tr><tr><td>2603</td><td>4220000</td></tr><tr><td>2902</td><td>4150000</td></tr></table>"
                    },
                    "metadata": {}
                }
            ],
            "execution_count": 9
        },
        {
            "cell_type": "markdown",
            "source": [
                "in the matter of finding the year wit the least amount of sales we need to do the next query"
            ],
            "metadata": {
                "language": "sql",
                "azdata_cell_guid": "a2d0acc8-0dd2-4f59-bc8d-8463ae20ee0c"
            },
            "attachments": {}
        },
        {
            "cell_type": "markdown",
            "source": [
                "This means that 8.000.000  is the highest price and that property is linked to this postal code 2611"
            ],
            "metadata": {
                "language": "sql",
                "azdata_cell_guid": "408c4ad2-6c42-471a-8172-c97aed130042"
            },
            "attachments": {}
        },
        {
            "cell_type": "code",
            "source": [
                "select year(datesold) as Year, count(*) as Amount_of_sales\r\n",
                "from raw_sales\r\n",
                "group by year(datesold)\r\n",
                "order by count(*)"
            ],
            "metadata": {
                "language": "sql",
                "azdata_cell_guid": "c9d6b2ca-0059-4777-9f33-6084a27617f2"
            },
            "outputs": [
                {
                    "output_type": "display_data",
                    "data": {
                        "text/html": "(13 rows affected)"
                    },
                    "metadata": {}
                },
                {
                    "output_type": "display_data",
                    "data": {
                        "text/html": "Total execution time: 00:00:00.139"
                    },
                    "metadata": {}
                },
                {
                    "output_type": "execute_result",
                    "execution_count": 12,
                    "data": {
                        "application/vnd.dataresource+json": {
                            "schema": {
                                "fields": [
                                    {
                                        "name": "Year"
                                    },
                                    {
                                        "name": "Amount_of_sales"
                                    }
                                ]
                            },
                            "data": [
                                {
                                    "0": "2007",
                                    "1": "147"
                                },
                                {
                                    "0": "2008",
                                    "1": "639"
                                },
                                {
                                    "0": "2019",
                                    "1": "1385"
                                },
                                {
                                    "0": "2009",
                                    "1": "1426"
                                },
                                {
                                    "0": "2010",
                                    "1": "1555"
                                },
                                {
                                    "0": "2011",
                                    "1": "1633"
                                },
                                {
                                    "0": "2012",
                                    "1": "1858"
                                },
                                {
                                    "0": "2013",
                                    "1": "2119"
                                },
                                {
                                    "0": "2014",
                                    "1": "2863"
                                },
                                {
                                    "0": "2015",
                                    "1": "3648"
                                },
                                {
                                    "0": "2018",
                                    "1": "3858"
                                },
                                {
                                    "0": "2016",
                                    "1": "3908"
                                },
                                {
                                    "0": "2017",
                                    "1": "4541"
                                }
                            ]
                        },
                        "text/html": "<table><tr><th>Year</th><th>Amount_of_sales</th></tr><tr><td>2007</td><td>147</td></tr><tr><td>2008</td><td>639</td></tr><tr><td>2019</td><td>1385</td></tr><tr><td>2009</td><td>1426</td></tr><tr><td>2010</td><td>1555</td></tr><tr><td>2011</td><td>1633</td></tr><tr><td>2012</td><td>1858</td></tr><tr><td>2013</td><td>2119</td></tr><tr><td>2014</td><td>2863</td></tr><tr><td>2015</td><td>3648</td></tr><tr><td>2018</td><td>3858</td></tr><tr><td>2016</td><td>3908</td></tr><tr><td>2017</td><td>4541</td></tr></table>"
                    },
                    "metadata": {}
                }
            ],
            "execution_count": 12
        },
        {
            "cell_type": "markdown",
            "source": [
                "This means that 2017 was the year with the least amount of sales with 147, four times less than 2008"
            ],
            "metadata": {
                "language": "sql",
                "azdata_cell_guid": "d7f60481-718c-4e97-a54a-83fc2ec1353a"
            },
            "attachments": {}
        },
        {
            "cell_type": "markdown",
            "source": [
                "Next, in order to find the top six post code by year we need to do the following query"
            ],
            "metadata": {
                "language": "sql",
                "azdata_cell_guid": "4a9742b4-c4f5-4679-8239-b7be2ed02c51"
            },
            "attachments": {}
        },
        {
            "cell_type": "code",
            "source": [
                "with top_postcode as (SELECT postcode, price, Year(datesold) as Year,\r\n",
                "RANK() OVER (PARTITION BY Year(datesold) ORDER BY Price DESC) AS Rank\r\n",
                "FROM raw_sales)\r\n",
                "SELECT postcode, price, Year\r\n",
                "from top_postcode\r\n",
                "where Rank <=6\r\n",
                "order by Year, price DESC"
            ],
            "metadata": {
                "language": "sql",
                "azdata_cell_guid": "8b34b888-80ad-404d-be4a-56fada6f6c03",
                "tags": []
            },
            "outputs": [
                {
                    "output_type": "display_data",
                    "data": {
                        "text/html": "(78 rows affected)"
                    },
                    "metadata": {}
                },
                {
                    "output_type": "display_data",
                    "data": {
                        "text/html": "Total execution time: 00:00:00.162"
                    },
                    "metadata": {}
                },
                {
                    "output_type": "execute_result",
                    "execution_count": 55,
                    "data": {
                        "application/vnd.dataresource+json": {
                            "schema": {
                                "fields": [
                                    {
                                        "name": "postcode"
                                    },
                                    {
                                        "name": "price"
                                    },
                                    {
                                        "name": "Year"
                                    }
                                ]
                            },
                            "data": [
                                {
                                    "0": "2603",
                                    "1": "1780000",
                                    "2": "2007"
                                },
                                {
                                    "0": "2606",
                                    "1": "1530000",
                                    "2": "2007"
                                },
                                {
                                    "0": "2603",
                                    "1": "1460000",
                                    "2": "2007"
                                },
                                {
                                    "0": "2612",
                                    "1": "1105000",
                                    "2": "2007"
                                },
                                {
                                    "0": "2913",
                                    "1": "1100000",
                                    "2": "2007"
                                },
                                {
                                    "0": "2615",
                                    "1": "930000",
                                    "2": "2007"
                                },
                                {
                                    "0": "2603",
                                    "1": "3500000",
                                    "2": "2008"
                                },
                                {
                                    "0": "2603",
                                    "1": "1425000",
                                    "2": "2008"
                                },
                                {
                                    "0": "2600",
                                    "1": "1380000",
                                    "2": "2008"
                                },
                                {
                                    "0": "2603",
                                    "1": "1375000",
                                    "2": "2008"
                                },
                                {
                                    "0": "2602",
                                    "1": "1300000",
                                    "2": "2008"
                                },
                                {
                                    "0": "2603",
                                    "1": "1250000",
                                    "2": "2008"
                                },
                                {
                                    "0": "2603",
                                    "1": "2600000",
                                    "2": "2009"
                                },
                                {
                                    "0": "2603",
                                    "1": "2200000",
                                    "2": "2009"
                                },
                                {
                                    "0": "2603",
                                    "1": "2100000",
                                    "2": "2009"
                                },
                                {
                                    "0": "2612",
                                    "1": "1875000",
                                    "2": "2009"
                                },
                                {
                                    "0": "2604",
                                    "1": "1620000",
                                    "2": "2009"
                                },
                                {
                                    "0": "2603",
                                    "1": "1580000",
                                    "2": "2009"
                                },
                                {
                                    "0": "2603",
                                    "1": "7300000",
                                    "2": "2010"
                                },
                                {
                                    "0": "2604",
                                    "1": "2425000",
                                    "2": "2010"
                                },
                                {
                                    "0": "2603",
                                    "1": "2400000",
                                    "2": "2010"
                                },
                                {
                                    "0": "2600",
                                    "1": "2350000",
                                    "2": "2010"
                                },
                                {
                                    "0": "2603",
                                    "1": "1780000",
                                    "2": "2010"
                                },
                                {
                                    "0": "2603",
                                    "1": "1700000",
                                    "2": "2010"
                                },
                                {
                                    "0": "2912",
                                    "1": "5425000",
                                    "2": "2011"
                                },
                                {
                                    "0": "2902",
                                    "1": "4150000",
                                    "2": "2011"
                                },
                                {
                                    "0": "2606",
                                    "1": "2500000",
                                    "2": "2011"
                                },
                                {
                                    "0": "2603",
                                    "1": "2375000",
                                    "2": "2011"
                                },
                                {
                                    "0": "2606",
                                    "1": "2200000",
                                    "2": "2011"
                                },
                                {
                                    "0": "2600",
                                    "1": "2100000",
                                    "2": "2011"
                                },
                                {
                                    "0": "2603",
                                    "1": "2760000",
                                    "2": "2012"
                                },
                                {
                                    "0": "2600",
                                    "1": "1980000",
                                    "2": "2012"
                                },
                                {
                                    "0": "2606",
                                    "1": "1900000",
                                    "2": "2012"
                                },
                                {
                                    "0": "2603",
                                    "1": "1730000",
                                    "2": "2012"
                                },
                                {
                                    "0": "2603",
                                    "1": "1650000",
                                    "2": "2012"
                                },
                                {
                                    "0": "2600",
                                    "1": "1605000",
                                    "2": "2012"
                                },
                                {
                                    "0": "2600",
                                    "1": "1880000",
                                    "2": "2013"
                                },
                                {
                                    "0": "2603",
                                    "1": "1650000",
                                    "2": "2013"
                                },
                                {
                                    "0": "2600",
                                    "1": "1620000",
                                    "2": "2013"
                                },
                                {
                                    "0": "2600",
                                    "1": "1510000",
                                    "2": "2013"
                                },
                                {
                                    "0": "2600",
                                    "1": "1501000",
                                    "2": "2013"
                                },
                                {
                                    "0": "2603",
                                    "1": "1495000",
                                    "2": "2013"
                                },
                                {
                                    "0": "2603",
                                    "1": "3400000",
                                    "2": "2014"
                                },
                                {
                                    "0": "2603",
                                    "1": "3400000",
                                    "2": "2014"
                                },
                                {
                                    "0": "2603",
                                    "1": "3160000",
                                    "2": "2014"
                                },
                                {
                                    "0": "2603",
                                    "1": "2600000",
                                    "2": "2014"
                                },
                                {
                                    "0": "2603",
                                    "1": "2550000",
                                    "2": "2014"
                                },
                                {
                                    "0": "2603",
                                    "1": "2080000",
                                    "2": "2014"
                                },
                                {
                                    "0": "2611",
                                    "1": "8000000",
                                    "2": "2015"
                                },
                                {
                                    "0": "2603",
                                    "1": "2660000",
                                    "2": "2015"
                                },
                                {
                                    "0": "2600",
                                    "1": "2450000",
                                    "2": "2015"
                                },
                                {
                                    "0": "2603",
                                    "1": "2440000",
                                    "2": "2015"
                                },
                                {
                                    "0": "2603",
                                    "1": "2400000",
                                    "2": "2015"
                                },
                                {
                                    "0": "2603",
                                    "1": "2322000",
                                    "2": "2015"
                                },
                                {
                                    "0": "2611",
                                    "1": "6480000",
                                    "2": "2016"
                                },
                                {
                                    "0": "2600",
                                    "1": "5475000",
                                    "2": "2016"
                                },
                                {
                                    "0": "2600",
                                    "1": "4417000",
                                    "2": "2016"
                                },
                                {
                                    "0": "2600",
                                    "1": "3950000",
                                    "2": "2016"
                                },
                                {
                                    "0": "2603",
                                    "1": "3625000",
                                    "2": "2016"
                                },
                                {
                                    "0": "2603",
                                    "1": "2595000",
                                    "2": "2016"
                                },
                                {
                                    "0": "2603",
                                    "1": "4700000",
                                    "2": "2017"
                                },
                                {
                                    "0": "2603",
                                    "1": "4220000",
                                    "2": "2017"
                                },
                                {
                                    "0": "2603",
                                    "1": "3500000",
                                    "2": "2017"
                                },
                                {
                                    "0": "2603",
                                    "1": "3160000",
                                    "2": "2017"
                                },
                                {
                                    "0": "2603",
                                    "1": "3050000",
                                    "2": "2017"
                                },
                                {
                                    "0": "2603",
                                    "1": "3000000",
                                    "2": "2017"
                                },
                                {
                                    "0": "2600",
                                    "1": "3750000",
                                    "2": "2018"
                                },
                                {
                                    "0": "2603",
                                    "1": "2950000",
                                    "2": "2018"
                                },
                                {
                                    "0": "2603",
                                    "1": "2900000",
                                    "2": "2018"
                                },
                                {
                                    "0": "2604",
                                    "1": "2800000",
                                    "2": "2018"
                                },
                                {
                                    "0": "2603",
                                    "1": "2740000",
                                    "2": "2018"
                                },
                                {
                                    "0": "2600",
                                    "1": "2701000",
                                    "2": "2018"
                                },
                                {
                                    "0": "2603",
                                    "1": "4500000",
                                    "2": "2019"
                                },
                                {
                                    "0": "2603",
                                    "1": "2195000",
                                    "2": "2019"
                                },
                                {
                                    "0": "2603",
                                    "1": "1975000",
                                    "2": "2019"
                                },
                                {
                                    "0": "2606",
                                    "1": "1900000",
                                    "2": "2019"
                                },
                                {
                                    "0": "2602",
                                    "1": "1770000",
                                    "2": "2019"
                                },
                                {
                                    "0": "2605",
                                    "1": "1701000",
                                    "2": "2019"
                                }
                            ]
                        },
                        "text/html": "<table><tr><th>postcode</th><th>price</th><th>Year</th></tr><tr><td>2603</td><td>1780000</td><td>2007</td></tr><tr><td>2606</td><td>1530000</td><td>2007</td></tr><tr><td>2603</td><td>1460000</td><td>2007</td></tr><tr><td>2612</td><td>1105000</td><td>2007</td></tr><tr><td>2913</td><td>1100000</td><td>2007</td></tr><tr><td>2615</td><td>930000</td><td>2007</td></tr><tr><td>2603</td><td>3500000</td><td>2008</td></tr><tr><td>2603</td><td>1425000</td><td>2008</td></tr><tr><td>2600</td><td>1380000</td><td>2008</td></tr><tr><td>2603</td><td>1375000</td><td>2008</td></tr><tr><td>2602</td><td>1300000</td><td>2008</td></tr><tr><td>2603</td><td>1250000</td><td>2008</td></tr><tr><td>2603</td><td>2600000</td><td>2009</td></tr><tr><td>2603</td><td>2200000</td><td>2009</td></tr><tr><td>2603</td><td>2100000</td><td>2009</td></tr><tr><td>2612</td><td>1875000</td><td>2009</td></tr><tr><td>2604</td><td>1620000</td><td>2009</td></tr><tr><td>2603</td><td>1580000</td><td>2009</td></tr><tr><td>2603</td><td>7300000</td><td>2010</td></tr><tr><td>2604</td><td>2425000</td><td>2010</td></tr><tr><td>2603</td><td>2400000</td><td>2010</td></tr><tr><td>2600</td><td>2350000</td><td>2010</td></tr><tr><td>2603</td><td>1780000</td><td>2010</td></tr><tr><td>2603</td><td>1700000</td><td>2010</td></tr><tr><td>2912</td><td>5425000</td><td>2011</td></tr><tr><td>2902</td><td>4150000</td><td>2011</td></tr><tr><td>2606</td><td>2500000</td><td>2011</td></tr><tr><td>2603</td><td>2375000</td><td>2011</td></tr><tr><td>2606</td><td>2200000</td><td>2011</td></tr><tr><td>2600</td><td>2100000</td><td>2011</td></tr><tr><td>2603</td><td>2760000</td><td>2012</td></tr><tr><td>2600</td><td>1980000</td><td>2012</td></tr><tr><td>2606</td><td>1900000</td><td>2012</td></tr><tr><td>2603</td><td>1730000</td><td>2012</td></tr><tr><td>2603</td><td>1650000</td><td>2012</td></tr><tr><td>2600</td><td>1605000</td><td>2012</td></tr><tr><td>2600</td><td>1880000</td><td>2013</td></tr><tr><td>2603</td><td>1650000</td><td>2013</td></tr><tr><td>2600</td><td>1620000</td><td>2013</td></tr><tr><td>2600</td><td>1510000</td><td>2013</td></tr><tr><td>2600</td><td>1501000</td><td>2013</td></tr><tr><td>2603</td><td>1495000</td><td>2013</td></tr><tr><td>2603</td><td>3400000</td><td>2014</td></tr><tr><td>2603</td><td>3400000</td><td>2014</td></tr><tr><td>2603</td><td>3160000</td><td>2014</td></tr><tr><td>2603</td><td>2600000</td><td>2014</td></tr><tr><td>2603</td><td>2550000</td><td>2014</td></tr><tr><td>2603</td><td>2080000</td><td>2014</td></tr><tr><td>2611</td><td>8000000</td><td>2015</td></tr><tr><td>2603</td><td>2660000</td><td>2015</td></tr><tr><td>2600</td><td>2450000</td><td>2015</td></tr><tr><td>2603</td><td>2440000</td><td>2015</td></tr><tr><td>2603</td><td>2400000</td><td>2015</td></tr><tr><td>2603</td><td>2322000</td><td>2015</td></tr><tr><td>2611</td><td>6480000</td><td>2016</td></tr><tr><td>2600</td><td>5475000</td><td>2016</td></tr><tr><td>2600</td><td>4417000</td><td>2016</td></tr><tr><td>2600</td><td>3950000</td><td>2016</td></tr><tr><td>2603</td><td>3625000</td><td>2016</td></tr><tr><td>2603</td><td>2595000</td><td>2016</td></tr><tr><td>2603</td><td>4700000</td><td>2017</td></tr><tr><td>2603</td><td>4220000</td><td>2017</td></tr><tr><td>2603</td><td>3500000</td><td>2017</td></tr><tr><td>2603</td><td>3160000</td><td>2017</td></tr><tr><td>2603</td><td>3050000</td><td>2017</td></tr><tr><td>2603</td><td>3000000</td><td>2017</td></tr><tr><td>2600</td><td>3750000</td><td>2018</td></tr><tr><td>2603</td><td>2950000</td><td>2018</td></tr><tr><td>2603</td><td>2900000</td><td>2018</td></tr><tr><td>2604</td><td>2800000</td><td>2018</td></tr><tr><td>2603</td><td>2740000</td><td>2018</td></tr><tr><td>2600</td><td>2701000</td><td>2018</td></tr><tr><td>2603</td><td>4500000</td><td>2019</td></tr><tr><td>2603</td><td>2195000</td><td>2019</td></tr><tr><td>2603</td><td>1975000</td><td>2019</td></tr><tr><td>2606</td><td>1900000</td><td>2019</td></tr><tr><td>2602</td><td>1770000</td><td>2019</td></tr><tr><td>2605</td><td>1701000</td><td>2019</td></tr></table>"
                    },
                    "metadata": {}
                }
            ],
            "execution_count": 55
        },
        {
            "cell_type": "markdown",
            "source": [
                "This last query shows the top 6 postal code by price and year and price. So it shows the most expensive houses. As we can see some postcodes appears over and over wich is expected considering the fact that this are the most expensive houses, so when they have been sold they appear in the highest places."
            ],
            "metadata": {
                "language": "sql",
                "azdata_cell_guid": "a2b72c26-f3c0-4f14-86c8-8a38b9630a97"
            },
            "attachments": {}
        }
    ]
}